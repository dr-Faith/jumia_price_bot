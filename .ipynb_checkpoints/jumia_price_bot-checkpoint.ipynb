{
 "cells": [
  {
   "cell_type": "markdown",
   "id": "17b6ae8c",
   "metadata": {},
   "source": [
    "### JUMIA PRICE BOT"
   ]
  },
  {
   "cell_type": "code",
   "execution_count": 1,
   "id": "cb1f722d",
   "metadata": {},
   "outputs": [],
   "source": [
    "# importing required libraries\n",
    "\n",
    "from scrapy import Selector\n",
    "import numpy as np\n",
    "import requests\n",
    "import warnings\n",
    "from tqdm import tqdm\n",
    "import pandas as pd\n",
    "from glob import glob\n",
    "import matplotlib.pyplot as plt\n",
    "\n",
    "warnings.filterwarnings('ignore')"
   ]
  },
  {
   "cell_type": "code",
   "execution_count": 64,
   "id": "f1d33c31",
   "metadata": {},
   "outputs": [],
   "source": [
    "# test end url\n",
    "\n",
    "url = 'https://www.jumia.com.ng/video-games/'"
   ]
  },
  {
   "cell_type": "code",
   "execution_count": 65,
   "id": "dfae5bae",
   "metadata": {},
   "outputs": [],
   "source": [
    "response = requests.get(url)"
   ]
  },
  {
   "cell_type": "code",
   "execution_count": 66,
   "id": "01787565",
   "metadata": {},
   "outputs": [
    {
     "data": {
      "text/plain": [
       "<Response [200]>"
      ]
     },
     "execution_count": 66,
     "metadata": {},
     "output_type": "execute_result"
    }
   ],
   "source": [
    "response"
   ]
  },
  {
   "cell_type": "code",
   "execution_count": 67,
   "id": "47c55a40",
   "metadata": {},
   "outputs": [
    {
     "data": {
      "text/plain": [
       "'https://www.jumia.com.ng/video-games/'"
      ]
     },
     "execution_count": 67,
     "metadata": {},
     "output_type": "execute_result"
    }
   ],
   "source": [
    "response.url"
   ]
  },
  {
   "cell_type": "code",
   "execution_count": 68,
   "id": "382a3150",
   "metadata": {},
   "outputs": [],
   "source": [
    "html_content = response.content"
   ]
  },
  {
   "cell_type": "code",
   "execution_count": 69,
   "id": "b9740b40",
   "metadata": {},
   "outputs": [],
   "source": [
    "sel = Selector(text=html_content)"
   ]
  },
  {
   "cell_type": "code",
   "execution_count": 70,
   "id": "b782f306",
   "metadata": {},
   "outputs": [],
   "source": [
    "list_prices = sel.xpath('//div[@class=\"prc\"]/text()').extract()"
   ]
  },
  {
   "cell_type": "code",
   "execution_count": 71,
   "id": "16bcbf56",
   "metadata": {},
   "outputs": [
    {
     "data": {
      "text/plain": [
       "['₦ 3,860', '₦ 44,690', '₦ 3,890', '₦ 30,000', '₦ 9,999']"
      ]
     },
     "execution_count": 71,
     "metadata": {},
     "output_type": "execute_result"
    }
   ],
   "source": [
    "list_prices[:5]"
   ]
  },
  {
   "cell_type": "code",
   "execution_count": 72,
   "id": "d90640a7",
   "metadata": {},
   "outputs": [],
   "source": [
    "dict_names_prices = dict(zip(sel.xpath('//div[@class=\"name\"]/text()').extract(), sel.xpath('//div[@class=\"prc\"]/text()').extract()))"
   ]
  },
  {
   "cell_type": "code",
   "execution_count": 73,
   "id": "81138157",
   "metadata": {},
   "outputs": [
    {
     "data": {
      "text/plain": [
       "'₦ 3,890'"
      ]
     },
     "execution_count": 73,
     "metadata": {},
     "output_type": "execute_result"
    }
   ],
   "source": [
    "dict_names_prices['Sony PS2 Controller Pad For Playstation 2']"
   ]
  },
  {
   "cell_type": "code",
   "execution_count": 74,
   "id": "a49d3573",
   "metadata": {},
   "outputs": [],
   "source": [
    "gaming_url_list = [\n",
    "    'https://www.jumia.com.ng/video-games/'\n",
    "]"
   ]
  },
  {
   "cell_type": "code",
   "execution_count": 75,
   "id": "1c594e11",
   "metadata": {},
   "outputs": [],
   "source": [
    "links_class = '-db -pvs -phxl -hov-bg-gy05'"
   ]
  },
  {
   "cell_type": "markdown",
   "id": "3428b81e",
   "metadata": {},
   "source": [
    "### Web Crawler (Spider)"
   ]
  },
  {
   "cell_type": "code",
   "execution_count": 76,
   "id": "db4f6a34",
   "metadata": {},
   "outputs": [],
   "source": [
    "with open('jumia_urls.txt', 'r') as jumia_urls:\n",
    "    jumia_url_list = list(map(str.strip, jumia_urls.readlines()))"
   ]
  },
  {
   "cell_type": "code",
   "execution_count": 77,
   "id": "edd82321",
   "metadata": {},
   "outputs": [],
   "source": [
    "#list(map(lambda x: x.strip('/').split('/')[-1], jumia_url_list))"
   ]
  },
  {
   "cell_type": "code",
   "execution_count": 78,
   "id": "47197083",
   "metadata": {},
   "outputs": [],
   "source": [
    "# variables\n",
    "\n",
    "product_type_name_prices = {}"
   ]
  },
  {
   "cell_type": "code",
   "execution_count": 79,
   "id": "7090134b",
   "metadata": {},
   "outputs": [],
   "source": [
    "# Creating the web crawler or spider\n",
    "\n",
    "import scrapy\n",
    "from scrapy.crawler import CrawlerProcess\n",
    "\n",
    "\n",
    "class JumiaScraper(scrapy.Spider):\n",
    "    name = 'jumia_gaming_scraper'\n",
    "    \n",
    "    def start_requests(self):\n",
    "        url_list = jumia_url_list\n",
    "        \n",
    "        for url in jumia_url_list:\n",
    "            yield scrapy.Request(url=url, callback=self.parse)\n",
    "            \n",
    "    def add_name_price_info(self, response):\n",
    "        \n",
    "        product_type_id_name = response.url.strip('/').split('/')[-1]\n",
    "        name_price_info = dict(zip(response.xpath('//*[@class=\"name\"]/text()').extract(), response.xpath('//*[@class=\"prc\"]/text()').extract()))\n",
    "        \n",
    "        product_type_name_prices[product_type_id_name] = name_price_info\n",
    "        \n",
    "    def parse(self, response):\n",
    "        self.add_name_price_info(response)\n",
    "        \n",
    "        links_to_follow = response.xpath('.//a[@class=\"-db -pvs -phxl -hov-bg-gy05\"]/@href').extract()\n",
    "        \n",
    "        for follow_url in links_to_follow:\n",
    "            yield response.follow(url=follow_url, callback=self.parse_pages)\n",
    "            \n",
    "    def parse_pages(self, response):\n",
    "        self.add_name_price_info(response)\n",
    "        \n",
    "        add_links = response.xpath('.//a[@class=\"-db -pvs -phxl -hov-bg-gy05\"]/@href').extract()\n",
    "        \n",
    "        for follow_url in add_links:\n",
    "            yield response.follow(url=follow_url, callback=self.parse_pages)\n",
    "  "
   ]
  },
  {
   "cell_type": "code",
   "execution_count": null,
   "id": "3dbe2eda",
   "metadata": {},
   "outputs": [
    {
     "name": "stderr",
     "output_type": "stream",
     "text": [
      "2023-02-12 17:56:34 [scrapy.utils.log] INFO: Scrapy 2.6.2 started (bot: scrapybot)\n",
      "2023-02-12 17:56:34 [scrapy.utils.log] INFO: Versions: lxml 4.9.1.0, libxml2 2.9.14, cssselect 1.1.0, parsel 1.6.0, w3lib 1.21.0, Twisted 22.2.0, Python 3.9.13 (main, Aug 25 2022, 23:51:50) [MSC v.1916 64 bit (AMD64)], pyOpenSSL 22.0.0 (OpenSSL 1.1.1q  5 Jul 2022), cryptography 37.0.1, Platform Windows-10-10.0.22621-SP0\n",
      "2023-02-12 17:56:34 [scrapy.crawler] INFO: Overridden settings:\n",
      "{}\n",
      "2023-02-12 17:56:34 [scrapy.utils.log] DEBUG: Using reactor: twisted.internet.selectreactor.SelectReactor\n",
      "2023-02-12 17:56:34 [scrapy.extensions.telnet] INFO: Telnet Password: ccd4bcfd9698be7d\n",
      "2023-02-12 17:56:34 [scrapy.middleware] INFO: Enabled extensions:\n",
      "['scrapy.extensions.corestats.CoreStats',\n",
      " 'scrapy.extensions.telnet.TelnetConsole',\n",
      " 'scrapy.extensions.logstats.LogStats']\n",
      "2023-02-12 17:56:35 [scrapy.middleware] INFO: Enabled downloader middlewares:\n",
      "['scrapy.downloadermiddlewares.httpauth.HttpAuthMiddleware',\n",
      " 'scrapy.downloadermiddlewares.downloadtimeout.DownloadTimeoutMiddleware',\n",
      " 'scrapy.downloadermiddlewares.defaultheaders.DefaultHeadersMiddleware',\n",
      " 'scrapy.downloadermiddlewares.useragent.UserAgentMiddleware',\n",
      " 'scrapy.downloadermiddlewares.retry.RetryMiddleware',\n",
      " 'scrapy.downloadermiddlewares.redirect.MetaRefreshMiddleware',\n",
      " 'scrapy.downloadermiddlewares.httpcompression.HttpCompressionMiddleware',\n",
      " 'scrapy.downloadermiddlewares.redirect.RedirectMiddleware',\n",
      " 'scrapy.downloadermiddlewares.cookies.CookiesMiddleware',\n",
      " 'scrapy.downloadermiddlewares.httpproxy.HttpProxyMiddleware',\n",
      " 'scrapy.downloadermiddlewares.stats.DownloaderStats']\n",
      "2023-02-12 17:56:35 [scrapy.middleware] INFO: Enabled spider middlewares:\n",
      "['scrapy.spidermiddlewares.httperror.HttpErrorMiddleware',\n",
      " 'scrapy.spidermiddlewares.offsite.OffsiteMiddleware',\n",
      " 'scrapy.spidermiddlewares.referer.RefererMiddleware',\n",
      " 'scrapy.spidermiddlewares.urllength.UrlLengthMiddleware',\n",
      " 'scrapy.spidermiddlewares.depth.DepthMiddleware']\n",
      "2023-02-12 17:56:35 [scrapy.middleware] INFO: Enabled item pipelines:\n",
      "[]\n",
      "2023-02-12 17:56:35 [scrapy.core.engine] INFO: Spider opened\n",
      "2023-02-12 17:56:37 [scrapy.extensions.logstats] INFO: Crawled 0 pages (at 0 pages/min), scraped 0 items (at 0 items/min)\n",
      "2023-02-12 17:56:37 [scrapy.extensions.telnet] INFO: Telnet console listening on 127.0.0.1:6023\n",
      "2023-02-12 17:56:37 [filelock] DEBUG: Attempting to acquire lock 3003921700992 on C:\\Users\\USER\\anaconda3\\lib\\site-packages\\tldextract\\.suffix_cache/publicsuffix.org-tlds\\de84b5ca2167d4c83e38fb162f2e8738.tldextract.json.lock\n",
      "2023-02-12 17:56:37 [filelock] DEBUG: Lock 3003921700992 acquired on C:\\Users\\USER\\anaconda3\\lib\\site-packages\\tldextract\\.suffix_cache/publicsuffix.org-tlds\\de84b5ca2167d4c83e38fb162f2e8738.tldextract.json.lock\n",
      "2023-02-12 17:56:37 [filelock] DEBUG: Attempting to acquire lock 3003921764304 on C:\\Users\\USER\\anaconda3\\lib\\site-packages\\tldextract\\.suffix_cache/urls\\62bf135d1c2f3d4db4228b9ecaf507a2.tldextract.json.lock\n",
      "2023-02-12 17:56:37 [filelock] DEBUG: Lock 3003921764304 acquired on C:\\Users\\USER\\anaconda3\\lib\\site-packages\\tldextract\\.suffix_cache/urls\\62bf135d1c2f3d4db4228b9ecaf507a2.tldextract.json.lock\n",
      "2023-02-12 17:56:37 [filelock] DEBUG: Attempting to release lock 3003921764304 on C:\\Users\\USER\\anaconda3\\lib\\site-packages\\tldextract\\.suffix_cache/urls\\62bf135d1c2f3d4db4228b9ecaf507a2.tldextract.json.lock\n",
      "2023-02-12 17:56:37 [filelock] DEBUG: Lock 3003921764304 released on C:\\Users\\USER\\anaconda3\\lib\\site-packages\\tldextract\\.suffix_cache/urls\\62bf135d1c2f3d4db4228b9ecaf507a2.tldextract.json.lock\n",
      "2023-02-12 17:56:37 [filelock] DEBUG: Attempting to release lock 3003921700992 on C:\\Users\\USER\\anaconda3\\lib\\site-packages\\tldextract\\.suffix_cache/publicsuffix.org-tlds\\de84b5ca2167d4c83e38fb162f2e8738.tldextract.json.lock\n",
      "2023-02-12 17:56:37 [filelock] DEBUG: Lock 3003921700992 released on C:\\Users\\USER\\anaconda3\\lib\\site-packages\\tldextract\\.suffix_cache/publicsuffix.org-tlds\\de84b5ca2167d4c83e38fb162f2e8738.tldextract.json.lock\n",
      "2023-02-12 17:56:37 [scrapy.core.engine] DEBUG: Crawled (200) <GET https://www.jumia.com.ng/groceries/> (referer: None)\n",
      "2023-02-12 17:56:37 [scrapy.core.engine] DEBUG: Crawled (200) <GET https://www.jumia.com.ng/baby-products/> (referer: None)\n",
      "2023-02-12 17:56:38 [scrapy.core.engine] DEBUG: Crawled (200) <GET https://www.jumia.com.ng/computing/> (referer: None)\n",
      "2023-02-12 17:56:38 [scrapy.core.engine] DEBUG: Crawled (200) <GET https://www.jumia.com.ng/health-beauty/> (referer: None)\n",
      "2023-02-12 17:56:38 [scrapy.core.engine] DEBUG: Crawled (200) <GET https://www.jumia.com.ng/home-office/> (referer: None)\n",
      "2023-02-12 17:56:38 [scrapy.core.engine] DEBUG: Crawled (200) <GET https://www.jumia.com.ng/electronics/> (referer: None)\n",
      "2023-02-12 17:56:38 [scrapy.core.engine] DEBUG: Crawled (200) <GET https://www.jumia.com.ng/phones-tablets/> (referer: None)\n",
      "2023-02-12 17:56:38 [scrapy.core.engine] DEBUG: Crawled (200) <GET https://www.jumia.com.ng/category-fashion-by-jumia/> (referer: None)\n",
      "2023-02-12 17:56:38 [scrapy.core.engine] DEBUG: Crawled (200) <GET https://www.jumia.com.ng/video-games/> (referer: None)\n",
      "2023-02-12 17:56:38 [scrapy.core.engine] DEBUG: Crawled (200) <GET https://www.jumia.com.ng/toys-games/> (referer: None)\n",
      "2023-02-12 17:56:38 [scrapy.core.engine] DEBUG: Crawled (200) <GET https://www.jumia.com.ng/sporting-goods/> (referer: None)\n",
      "2023-02-12 17:56:38 [scrapy.core.engine] DEBUG: Crawled (200) <GET https://www.jumia.com.ng/musical-instruments/> (referer: None)\n",
      "2023-02-12 17:56:38 [scrapy.core.engine] DEBUG: Crawled (200) <GET https://www.jumia.com.ng/books-movies-music/> (referer: None)\n",
      "2023-02-12 17:56:39 [scrapy.core.engine] DEBUG: Crawled (200) <GET https://www.jumia.com.ng/pet-supplies/> (referer: None)\n",
      "2023-02-12 17:56:39 [scrapy.core.engine] DEBUG: Crawled (200) <GET https://www.jumia.com.ng/mlp-official-stores/> (referer: None)\n",
      "2023-02-12 17:56:39 [scrapy.core.engine] DEBUG: Crawled (200) <GET https://www.jumia.com.ng/kiddies-accessories/> (referer: https://www.jumia.com.ng/baby-products/)\n",
      "2023-02-12 17:56:39 [scrapy.core.engine] DEBUG: Crawled (200) <GET https://www.jumia.com.ng/air-fresheners-d/> (referer: https://www.jumia.com.ng/groceries/)\n",
      "2023-02-12 17:56:40 [scrapy.core.engine] DEBUG: Crawled (200) <GET https://www.jumia.com.ng/computer-accessories/> (referer: https://www.jumia.com.ng/computing/)\n",
      "2023-02-12 17:56:40 [scrapy.core.engine] DEBUG: Crawled (200) <GET https://www.jumia.com.ng/automobile/> (referer: None)\n",
      "2023-02-12 17:56:40 [scrapy.core.engine] DEBUG: Crawled (200) <GET https://www.jumia.com.ng/softwares/> (referer: https://www.jumia.com.ng/computing/)\n",
      "2023-02-12 17:56:40 [scrapy.core.engine] DEBUG: Crawled (200) <GET https://www.jumia.com.ng/patio-lawn-garden/> (referer: None)\n",
      "2023-02-12 17:56:40 [scrapy.core.engine] DEBUG: Crawled (200) <GET https://www.jumia.com.ng/miscellaneous/> (referer: None)\n",
      "2023-02-12 17:56:40 [scrapy.core.engine] DEBUG: Crawled (200) <GET https://www.jumia.com.ng/mlp-global-stores/> (referer: None)\n",
      "2023-02-12 17:56:41 [scrapy.core.engine] DEBUG: Crawled (200) <GET https://www.jumia.com.ng/home-furniture/> (referer: https://www.jumia.com.ng/home-office/)\n",
      "2023-02-12 17:56:41 [scrapy.core.engine] DEBUG: Crawled (200) <GET https://www.jumia.com.ng/xbox-games/> (referer: https://www.jumia.com.ng/video-games/)\n",
      "2023-02-12 17:56:41 [scrapy.core.engine] DEBUG: Crawled (200) <GET https://www.jumia.com.ng/office-products/> (referer: https://www.jumia.com.ng/home-office/)\n",
      "2023-02-12 17:56:41 [scrapy.core.engine] DEBUG: Crawled (200) <GET https://www.jumia.com.ng/computing-accessories/> (referer: https://www.jumia.com.ng/computing/)\n",
      "2023-02-12 17:56:41 [scrapy.core.engine] DEBUG: Crawled (200) <GET https://www.jumia.com.ng/stationery/> (referer: https://www.jumia.com.ng/books-movies-music/)\n",
      "2023-02-12 17:56:41 [scrapy.core.engine] DEBUG: Crawled (200) <GET https://www.jumia.com.ng/small-animals/> (referer: https://www.jumia.com.ng/pet-supplies/)\n",
      "2023-02-12 17:56:42 [scrapy.core.engine] DEBUG: Crawled (200) <GET https://www.jumia.com.ng/tools-home-improvement/> (referer: https://www.jumia.com.ng/home-office/)\n",
      "2023-02-12 17:56:42 [scrapy.core.engine] DEBUG: Crawled (200) <GET https://www.jumia.com.ng/mlp-official-stores/computing/> (referer: https://www.jumia.com.ng/mlp-official-stores/)\n"
     ]
    },
    {
     "name": "stderr",
     "output_type": "stream",
     "text": [
      "2023-02-12 17:56:42 [scrapy.core.engine] DEBUG: Crawled (200) <GET https://www.jumia.com.ng/home-kitchen/> (referer: https://www.jumia.com.ng/home-office/)\n",
      "2023-02-12 17:56:42 [scrapy.core.engine] DEBUG: Crawled (200) <GET https://www.jumia.com.ng/electric-air-fresheners/> (referer: https://www.jumia.com.ng/air-fresheners-d/)\n",
      "2023-02-12 17:56:42 [scrapy.core.engine] DEBUG: Crawled (200) <GET https://www.jumia.com.ng/servers/> (referer: https://www.jumia.com.ng/computer-accessories/)\n",
      "2023-02-12 17:56:42 [scrapy.core.engine] DEBUG: Crawled (200) <GET https://www.jumia.com.ng/automobile-tools-equipment/> (referer: https://www.jumia.com.ng/automobile/)\n",
      "2023-02-12 17:56:42 [scrapy.core.engine] DEBUG: Crawled (200) <GET https://www.jumia.com.ng/baby-girl-fashion-accessories/> (referer: https://www.jumia.com.ng/kiddies-accessories/)\n",
      "2023-02-12 17:56:42 [scrapy.dupefilters] DEBUG: Filtered duplicate request: <GET https://www.jumia.com.ng/solids-liquids-air-fresheners/> - no more duplicates will be shown (see DUPEFILTER_DEBUG to show all duplicates)\n",
      "2023-02-12 17:56:43 [scrapy.core.engine] DEBUG: Crawled (200) <GET https://www.jumia.com.ng/automobile-replacement-parts/> (referer: https://www.jumia.com.ng/automobile/)\n",
      "2023-02-12 17:56:43 [scrapy.core.engine] DEBUG: Crawled (200) <GET https://www.jumia.com.ng/pools-hot-tubs-supplies/> (referer: https://www.jumia.com.ng/patio-lawn-garden/)\n",
      "2023-02-12 17:56:43 [scrapy.core.engine] DEBUG: Crawled (200) <GET https://www.jumia.com.ng/home-furniture-d/> (referer: https://www.jumia.com.ng/home-furniture/)\n",
      "2023-02-12 17:56:44 [scrapy.core.engine] DEBUG: Crawled (200) <GET https://www.jumia.com.ng/motorcycle-powersports/> (referer: https://www.jumia.com.ng/automobile/)\n",
      "2023-02-12 17:56:44 [scrapy.core.engine] DEBUG: Crawled (200) <GET https://www.jumia.com.ng/mlp-global-stores/baby-products/> (referer: https://www.jumia.com.ng/mlp-global-stores/)\n",
      "2023-02-12 17:56:44 [scrapy.core.engine] DEBUG: Crawled (200) <GET https://www.jumia.com.ng/computing-audio-video-accessories/> (referer: https://www.jumia.com.ng/computing-accessories/)\n",
      "2023-02-12 17:56:44 [scrapy.core.engine] DEBUG: Crawled (200) <GET https://www.jumia.com.ng/printer-ink-toner/> (referer: https://www.jumia.com.ng/computing-accessories/)\n",
      "2023-02-12 17:56:44 [scrapy.core.engine] DEBUG: Crawled (200) <GET https://www.jumia.com.ng/keyboards-mice-accessories/> (referer: https://www.jumia.com.ng/computing-accessories/)\n",
      "2023-02-12 17:56:44 [scrapy.core.engine] DEBUG: Crawled (200) <GET https://www.jumia.com.ng/mlp-global-stores/industrial-scientific/> (referer: https://www.jumia.com.ng/mlp-global-stores/)\n",
      "2023-02-12 17:56:44 [scrapy.core.engine] DEBUG: Crawled (200) <GET https://www.jumia.com.ng/office-school-supplies/> (referer: https://www.jumia.com.ng/office-products/)\n",
      "2023-02-12 17:56:45 [scrapy.core.engine] DEBUG: Crawled (200) <GET https://www.jumia.com.ng/hard-drive-accessories/> (referer: https://www.jumia.com.ng/computing-accessories/)\n",
      "2023-02-12 17:56:45 [scrapy.core.engine] DEBUG: Crawled (200) <GET https://www.jumia.com.ng/computer-input-devices/> (referer: https://www.jumia.com.ng/computing-accessories/)\n",
      "2023-02-12 17:56:45 [scrapy.core.engine] DEBUG: Crawled (200) <GET https://www.jumia.com.ng/computer-printer-accessories/> (referer: https://www.jumia.com.ng/computing-accessories/)\n",
      "2023-02-12 17:56:45 [scrapy.core.engine] DEBUG: Crawled (200) <GET https://www.jumia.com.ng/category-url-en-networking-accessories/> (referer: https://www.jumia.com.ng/computing-accessories/)\n",
      "2023-02-12 17:56:45 [scrapy.core.engine] DEBUG: Crawled (200) <GET https://www.jumia.com.ng/mlp-global-stores/automobile/> (referer: https://www.jumia.com.ng/mlp-global-stores/)\n",
      "2023-02-12 17:56:45 [scrapy.core.engine] DEBUG: Crawled (200) <GET https://www.jumia.com.ng/automobile-replacement-batteries-accessories/> (referer: https://www.jumia.com.ng/automobile-replacement-parts/)\n",
      "2023-02-12 17:56:45 [scrapy.core.engine] DEBUG: Crawled (200) <GET https://www.jumia.com.ng/baby-girls-shoes/> (referer: https://www.jumia.com.ng/baby-girl-fashion-accessories/)\n",
      "2023-02-12 17:56:45 [scrapy.core.engine] DEBUG: Crawled (200) <GET https://www.jumia.com.ng/home-kitchen-dining-furniture/> (referer: https://www.jumia.com.ng/home-furniture-d/)\n",
      "2023-02-12 17:56:45 [scrapy.core.engine] DEBUG: Crawled (200) <GET https://www.jumia.com.ng/home-office-furniture-d/> (referer: https://www.jumia.com.ng/home-furniture-d/)\n",
      "2023-02-12 17:56:45 [scrapy.core.engine] DEBUG: Crawled (200) <GET https://www.jumia.com.ng/swimming-pools/> (referer: https://www.jumia.com.ng/pools-hot-tubs-supplies/)\n",
      "2023-02-12 17:56:45 [scrapy.core.engine] DEBUG: Crawled (200) <GET https://www.jumia.com.ng/mlp-global-stores/health-beauty/> (referer: https://www.jumia.com.ng/mlp-global-stores/)\n",
      "2023-02-12 17:56:46 [scrapy.core.engine] DEBUG: Crawled (200) <GET https://www.jumia.com.ng/game-room-furniture/> (referer: https://www.jumia.com.ng/home-furniture-d/)\n",
      "2023-02-12 17:56:46 [scrapy.core.engine] DEBUG: Crawled (200) <GET https://www.jumia.com.ng/computer-webcams/> (referer: https://www.jumia.com.ng/computing-audio-video-accessories/)\n",
      "2023-02-12 17:56:46 [scrapy.core.engine] DEBUG: Crawled (200) <GET https://www.jumia.com.ng/computer-speakers/> (referer: https://www.jumia.com.ng/computing-audio-video-accessories/)\n",
      "2023-02-12 17:56:46 [scrapy.core.engine] DEBUG: Crawled (200) <GET https://www.jumia.com.ng/impact-dot-matrix-printer-ribbons/> (referer: https://www.jumia.com.ng/printer-ink-toner/)\n",
      "2023-02-12 17:56:46 [scrapy.core.engine] DEBUG: Crawled (200) <GET https://www.jumia.com.ng/computer-microphones/> (referer: https://www.jumia.com.ng/computing-audio-video-accessories/)\n",
      "2023-02-12 17:56:46 [scrapy.core.engine] DEBUG: Crawled (200) <GET https://www.jumia.com.ng/mlp-global-stores/retail-store-fixtures-equipment/> (referer: https://www.jumia.com.ng/mlp-global-stores/industrial-scientific/)\n",
      "2023-02-12 17:56:46 [scrapy.core.engine] DEBUG: Crawled (200) <GET https://www.jumia.com.ng/computer-accessories-trackballs/> (referer: https://www.jumia.com.ng/computer-input-devices/)\n",
      "2023-02-12 17:56:46 [scrapy.core.engine] DEBUG: Crawled (200) <GET https://www.jumia.com.ng/mlp-global-stores/science-education/> (referer: https://www.jumia.com.ng/mlp-global-stores/industrial-scientific/)\n",
      "2023-02-12 17:56:46 [scrapy.core.engine] DEBUG: Crawled (200) <GET https://www.jumia.com.ng/hard-drive-bags-cases/> (referer: https://www.jumia.com.ng/hard-drive-accessories/)\n",
      "2023-02-12 17:56:46 [scrapy.core.engine] DEBUG: Crawled (200) <GET https://www.jumia.com.ng/printer-control-cards/> (referer: https://www.jumia.com.ng/computer-printer-accessories/)\n",
      "2023-02-12 17:56:46 [scrapy.core.engine] DEBUG: Crawled (200) <GET https://www.jumia.com.ng/printer-photoconductors/> (referer: https://www.jumia.com.ng/computer-printer-accessories/)\n",
      "2023-02-12 17:56:47 [scrapy.core.engine] DEBUG: Crawled (200) <GET https://www.jumia.com.ng/printer-memory-modules/> (referer: https://www.jumia.com.ng/computer-printer-accessories/)\n",
      "2023-02-12 17:56:47 [scrapy.core.engine] DEBUG: Crawled (200) <GET https://www.jumia.com.ng/printer-finishers-staplers/> (referer: https://www.jumia.com.ng/computer-printer-accessories/)\n",
      "2023-02-12 17:56:47 [scrapy.core.engine] DEBUG: Crawled (200) <GET https://www.jumia.com.ng/school-shoes-3266/> (referer: https://www.jumia.com.ng/baby-girls-shoes/)\n",
      "2023-02-12 17:56:47 [scrapy.core.engine] DEBUG: Crawled (200) <GET https://www.jumia.com.ng/home-kitchen-furniture-d/> (referer: https://www.jumia.com.ng/home-kitchen-dining-furniture/)\n",
      "2023-02-12 17:56:47 [scrapy.core.engine] DEBUG: Crawled (200) <GET https://www.jumia.com.ng/video-game-chair/> (referer: https://www.jumia.com.ng/game-room-furniture/)\n",
      "2023-02-12 17:56:47 [scrapy.core.engine] DEBUG: Crawled (200) <GET https://www.jumia.com.ng/in-ground-swimming-pools/> (referer: https://www.jumia.com.ng/swimming-pools/)\n",
      "2023-02-12 17:56:47 [scrapy.core.engine] DEBUG: Crawled (200) <GET https://www.jumia.com.ng/game-table/> (referer: https://www.jumia.com.ng/game-room-furniture/)\n",
      "2023-02-12 17:56:47 [scrapy.core.engine] DEBUG: Crawled (200) <GET https://www.jumia.com.ng/above-ground-swimming-pools/> (referer: https://www.jumia.com.ng/swimming-pools/)\n"
     ]
    },
    {
     "name": "stderr",
     "output_type": "stream",
     "text": [
      "2023-02-12 17:56:48 [scrapy.core.engine] DEBUG: Crawled (200) <GET https://www.jumia.com.ng/mlp-global-stores/wellness-relaxation/> (referer: https://www.jumia.com.ng/mlp-global-stores/health-beauty/)\n",
      "2023-02-12 17:56:48 [scrapy.core.engine] DEBUG: Crawled (200) <GET https://www.jumia.com.ng/mlp-global-stores/fertility-sexual-wellness/> (referer: https://www.jumia.com.ng/mlp-global-stores/health-beauty/)\n",
      "2023-02-12 17:56:48 [scrapy.core.engine] DEBUG: Crawled (200) <GET https://www.jumia.com.ng/mlp-global-stores/health-care/> (referer: https://www.jumia.com.ng/mlp-global-stores/health-beauty/)\n",
      "2023-02-12 17:56:48 [scrapy.core.engine] DEBUG: Crawled (200) <GET https://www.jumia.com.ng/laptop-printer-stand/> (referer: https://www.jumia.com.ng/home-office-furniture-d/)\n",
      "2023-02-12 17:56:48 [scrapy.core.engine] DEBUG: Crawled (200) <GET https://www.jumia.com.ng/mlp-global-stores/specimens-specimens/> (referer: https://www.jumia.com.ng/mlp-global-stores/science-education/)\n",
      "2023-02-12 17:56:48 [scrapy.core.engine] DEBUG: Crawled (200) <GET https://www.jumia.com.ng/mlp-global-stores/anti-theft-equipment/> (referer: https://www.jumia.com.ng/mlp-global-stores/retail-store-fixtures-equipment/)\n",
      "2023-02-12 17:56:48 [scrapy.core.engine] DEBUG: Crawled (200) <GET https://www.jumia.com.ng/mlp-global-stores/medical-supplies-equipment/> (referer: https://www.jumia.com.ng/mlp-global-stores/health-beauty/)\n",
      "2023-02-12 17:56:48 [scrapy.core.engine] DEBUG: Crawled (200) <GET https://www.jumia.com.ng/mlp-global-stores/optics-optics/> (referer: https://www.jumia.com.ng/mlp-global-stores/science-education/)\n",
      "2023-02-12 17:56:49 [scrapy.core.engine] DEBUG: Crawled (200) <GET https://www.jumia.com.ng/mlp-global-stores/microscope-sample-slides/> (referer: https://www.jumia.com.ng/mlp-global-stores/science-education/)\n",
      "2023-02-12 17:56:49 [scrapy.core.engine] DEBUG: Crawled (200) <GET https://www.jumia.com.ng/mlp-global-stores/model-animals/> (referer: https://www.jumia.com.ng/mlp-global-stores/science-education/)\n",
      "2023-02-12 17:56:49 [scrapy.core.engine] DEBUG: Crawled (200) <GET https://www.jumia.com.ng/printer-finishers/> (referer: https://www.jumia.com.ng/printer-finishers-staplers/)\n",
      "2023-02-12 17:56:49 [scrapy.core.engine] DEBUG: Crawled (200) <GET https://www.jumia.com.ng/printer-duplex-units/> (referer: https://www.jumia.com.ng/printer-finishers-staplers/)\n",
      "2023-02-12 17:56:49 [scrapy.core.engine] DEBUG: Crawled (200) <GET https://www.jumia.com.ng/mlp-global-stores/beauty-styling-products/> (referer: https://www.jumia.com.ng/mlp-global-stores/health-beauty/)\n",
      "2023-02-12 17:56:49 [scrapy.core.engine] DEBUG: Crawled (200) <GET https://www.jumia.com.ng/mlp-global-stores/measurement-kits/> (referer: https://www.jumia.com.ng/mlp-global-stores/science-education/)\n",
      "2023-02-12 17:56:49 [scrapy.core.engine] DEBUG: Crawled (200) <GET https://www.jumia.com.ng/printer-staplers/> (referer: https://www.jumia.com.ng/printer-finishers-staplers/)\n",
      "2023-02-12 17:56:49 [scrapy.core.engine] DEBUG: Crawled (200) <GET https://www.jumia.com.ng/mlp-global-stores/magnets-magnets/> (referer: https://www.jumia.com.ng/mlp-global-stores/science-education/)\n",
      "2023-02-12 17:56:49 [scrapy.core.engine] DEBUG: Crawled (200) <GET https://www.jumia.com.ng/mlp-global-stores/insects-insect-kits/> (referer: https://www.jumia.com.ng/mlp-global-stores/science-education/)\n"
     ]
    }
   ],
   "source": [
    "# initiating the scraping process\n",
    "\n",
    "process = CrawlerProcess()\n",
    "\n",
    "process.crawl(JumiaScraper)\n",
    "process.start()"
   ]
  },
  {
   "cell_type": "code",
   "execution_count": null,
   "id": "59174d45",
   "metadata": {},
   "outputs": [],
   "source": [
    "df_dictionary = {key : pd.DataFrame.from_dict(value, orient='index', columns=['Price']).reset_index().rename(columns={'index':'Item'}) \\\n",
    "                 for key, value in product_type_name_prices.items()}"
   ]
  },
  {
   "cell_type": "code",
   "execution_count": 27,
   "id": "3f228d43",
   "metadata": {},
   "outputs": [
    {
     "data": {
      "text/html": [
       "<div>\n",
       "<style scoped>\n",
       "    .dataframe tbody tr th:only-of-type {\n",
       "        vertical-align: middle;\n",
       "    }\n",
       "\n",
       "    .dataframe tbody tr th {\n",
       "        vertical-align: top;\n",
       "    }\n",
       "\n",
       "    .dataframe thead th {\n",
       "        text-align: right;\n",
       "    }\n",
       "</style>\n",
       "<table border=\"1\" class=\"dataframe\">\n",
       "  <thead>\n",
       "    <tr style=\"text-align: right;\">\n",
       "      <th></th>\n",
       "      <th>Item</th>\n",
       "      <th>Price</th>\n",
       "    </tr>\n",
       "  </thead>\n",
       "  <tbody>\n",
       "    <tr>\n",
       "      <th>0</th>\n",
       "      <td>Biore UV Aqua Rich Watery Essence Sunscreen SP...</td>\n",
       "      <td>₦ 2,699</td>\n",
       "    </tr>\n",
       "    <tr>\n",
       "      <th>1</th>\n",
       "      <td>Six Pairs-in-1 Quality Ankle Socks</td>\n",
       "      <td>₦ 1,600</td>\n",
       "    </tr>\n",
       "    <tr>\n",
       "      <th>2</th>\n",
       "      <td>Feng Shui Black Obsidian Wealth Bracelet</td>\n",
       "      <td>₦ 839</td>\n",
       "    </tr>\n",
       "    <tr>\n",
       "      <th>3</th>\n",
       "      <td>Biore 2PCS UV Aqua Rich Watery Essence Sunscre...</td>\n",
       "      <td>₦ 5,099</td>\n",
       "    </tr>\n",
       "    <tr>\n",
       "      <th>4</th>\n",
       "      <td>Edifier TWS1 PRO True Wireless Earbuds,Bluetoo...</td>\n",
       "      <td>₦ 17,766</td>\n",
       "    </tr>\n",
       "    <tr>\n",
       "      <th>...</th>\n",
       "      <td>...</td>\n",
       "      <td>...</td>\n",
       "    </tr>\n",
       "    <tr>\n",
       "      <th>171</th>\n",
       "      <td>Romoss PEA40 Power Banks 40000mAh Fast Chargin...</td>\n",
       "      <td>₦ 31,364</td>\n",
       "    </tr>\n",
       "    <tr>\n",
       "      <th>172</th>\n",
       "      <td>Senwei 3.5KVA Manual Start Generator - EC5200 ...</td>\n",
       "      <td>₦ 134,000</td>\n",
       "    </tr>\n",
       "    <tr>\n",
       "      <th>173</th>\n",
       "      <td>Firman SUMEC FIRMAN 20000MAH SUPER STRONG FIRM...</td>\n",
       "      <td>₦ 10,565</td>\n",
       "    </tr>\n",
       "    <tr>\n",
       "      <th>174</th>\n",
       "      <td>Qasa Solar Power Portable SPP-168ADC And QSP-3...</td>\n",
       "      <td>₦ 154,980</td>\n",
       "    </tr>\n",
       "    <tr>\n",
       "      <th>175</th>\n",
       "      <td>Luminous 1500VA 1.5KVA / 24V Inverter - Pure S...</td>\n",
       "      <td>₦ 179,499</td>\n",
       "    </tr>\n",
       "  </tbody>\n",
       "</table>\n",
       "<p>176 rows × 2 columns</p>\n",
       "</div>"
      ],
      "text/plain": [
       "                                                  Item      Price\n",
       "0    Biore UV Aqua Rich Watery Essence Sunscreen SP...    ₦ 2,699\n",
       "1                   Six Pairs-in-1 Quality Ankle Socks    ₦ 1,600\n",
       "2             Feng Shui Black Obsidian Wealth Bracelet      ₦ 839\n",
       "3    Biore 2PCS UV Aqua Rich Watery Essence Sunscre...    ₦ 5,099\n",
       "4    Edifier TWS1 PRO True Wireless Earbuds,Bluetoo...   ₦ 17,766\n",
       "..                                                 ...        ...\n",
       "171  Romoss PEA40 Power Banks 40000mAh Fast Chargin...   ₦ 31,364\n",
       "172  Senwei 3.5KVA Manual Start Generator - EC5200 ...  ₦ 134,000\n",
       "173  Firman SUMEC FIRMAN 20000MAH SUPER STRONG FIRM...   ₦ 10,565\n",
       "174  Qasa Solar Power Portable SPP-168ADC And QSP-3...  ₦ 154,980\n",
       "175  Luminous 1500VA 1.5KVA / 24V Inverter - Pure S...  ₦ 179,499\n",
       "\n",
       "[176 rows x 2 columns]"
      ]
     },
     "execution_count": 27,
     "metadata": {},
     "output_type": "execute_result"
    }
   ],
   "source": [
    "df_dictionary['?e=500']"
   ]
  },
  {
   "cell_type": "code",
   "execution_count": 28,
   "id": "edab83a7",
   "metadata": {},
   "outputs": [],
   "source": [
    "other_data_count = 1\n",
    "for product_type, products_df in df_dictionary.items():\n",
    "    try:\n",
    "        products_df.to_csv(f'data/{product_type}.csv', index=False)\n",
    "    except OSError:\n",
    "        products_df.to_csv(f'data/other-data-{other_data_count}.csv', index=False)"
   ]
  },
  {
   "cell_type": "markdown",
   "id": "10cb7011",
   "metadata": {},
   "source": [
    "### Reading the CSV Files"
   ]
  },
  {
   "cell_type": "code",
   "execution_count": 2,
   "id": "b71e4a66",
   "metadata": {},
   "outputs": [],
   "source": [
    "path = glob('data/*.csv')"
   ]
  },
  {
   "cell_type": "code",
   "execution_count": 3,
   "id": "0f0be077",
   "metadata": {},
   "outputs": [],
   "source": [
    "df = pd.DataFrame()"
   ]
  },
  {
   "cell_type": "code",
   "execution_count": 4,
   "id": "9ed94b6b",
   "metadata": {},
   "outputs": [],
   "source": [
    "for filename in path:\n",
    "    df_new = pd.read_csv(filename)\n",
    "    df = pd.concat([df, df_new], axis=0, ignore_index=True)"
   ]
  },
  {
   "cell_type": "code",
   "execution_count": 5,
   "id": "93509361",
   "metadata": {},
   "outputs": [
    {
     "name": "stdout",
     "output_type": "stream",
     "text": [
      "(303323, 2)\n"
     ]
    }
   ],
   "source": [
    "print(df.shape)"
   ]
  },
  {
   "cell_type": "code",
   "execution_count": 6,
   "id": "cb98db12",
   "metadata": {},
   "outputs": [
    {
     "name": "stdout",
     "output_type": "stream",
     "text": [
      "                                                Item     Price\n",
      "0  Edifier TWS1 PRO True Wireless Earbuds,Bluetoo...  ₦ 17,766\n",
      "1  Edifier X5 Wireless Headphone, Bluetooth 5.0 H...  ₦ 11,100\n",
      "2  Wireless Fingerprint Touch Noise Cancelling He...   ₦ 4,290\n",
      "3  Edifier G2000 32W PC Computer Speakers Bluetoo...  ₦ 27,264\n",
      "4  Pro3 In-Ear Wireless Sports Headphones Stereo ...   ₦ 3,324\n"
     ]
    }
   ],
   "source": [
    "print(df.head())"
   ]
  },
  {
   "cell_type": "code",
   "execution_count": 7,
   "id": "45ddcab8",
   "metadata": {},
   "outputs": [
    {
     "name": "stdout",
     "output_type": "stream",
     "text": [
      "Edifier X5 Wireless Headphone, Bluetooth 5.0 Headset Earpiece,Noise Cancelling,Touch Contro,IP55 Dustproof & Waterproof, Deep Bass\n"
     ]
    }
   ],
   "source": [
    "print(df['Item'][1])"
   ]
  },
  {
   "cell_type": "code",
   "execution_count": 8,
   "id": "526d242e",
   "metadata": {},
   "outputs": [],
   "source": [
    "# import nltk\n",
    "# nltk.download('punkt')\n",
    "# nltk.download('wordnet')\n",
    "# nltk.download('omw-1.4')"
   ]
  },
  {
   "cell_type": "code",
   "execution_count": 9,
   "id": "9c610bca",
   "metadata": {},
   "outputs": [],
   "source": [
    "from nltk.tokenize import word_tokenize, regexp_tokenize, sent_tokenize\n",
    "from collections import Counter\n",
    "from nltk.corpus import stopwords\n",
    "from gensim.corpora.dictionary import Dictionary"
   ]
  },
  {
   "cell_type": "code",
   "execution_count": 10,
   "id": "ed205f6b",
   "metadata": {},
   "outputs": [
    {
     "name": "stdout",
     "output_type": "stream",
     "text": [
      "['Edifier', 'X5', 'Wireless', 'Headphone', ',', 'Bluetooth', '5.0', 'Headset', 'Earpiece', ',', 'Noise', 'Cancelling', ',', 'Touch', 'Contro', ',', 'IP55', 'Dustproof', '&', 'Waterproof', ',', 'Deep', 'Bass']\n"
     ]
    }
   ],
   "source": [
    "print(word_tokenize(df['Item'][1]))"
   ]
  },
  {
   "cell_type": "code",
   "execution_count": 11,
   "id": "500013c2",
   "metadata": {},
   "outputs": [],
   "source": [
    "def tokenize_series(series):\n",
    "    return series.apply(lambda x: word_tokenize(x))"
   ]
  },
  {
   "cell_type": "code",
   "execution_count": 12,
   "id": "6e242b09",
   "metadata": {},
   "outputs": [],
   "source": [
    "tokenized_series = tokenize_series(df['Item'])"
   ]
  },
  {
   "cell_type": "code",
   "execution_count": 13,
   "id": "ad2ac423",
   "metadata": {},
   "outputs": [
    {
     "data": {
      "text/plain": [
       "0    [Edifier, TWS1, PRO, True, Wireless, Earbuds, ...\n",
       "1    [Edifier, X5, Wireless, Headphone, ,, Bluetoot...\n",
       "2    [Wireless, Fingerprint, Touch, Noise, Cancelli...\n",
       "3    [Edifier, G2000, 32W, PC, Computer, Speakers, ...\n",
       "4    [Pro3, In-Ear, Wireless, Sports, Headphones, S...\n",
       "Name: Item, dtype: object"
      ]
     },
     "execution_count": 13,
     "metadata": {},
     "output_type": "execute_result"
    }
   ],
   "source": [
    "tokenized_series[:5]"
   ]
  },
  {
   "cell_type": "code",
   "execution_count": 14,
   "id": "0b66fb97",
   "metadata": {},
   "outputs": [],
   "source": [
    "word_dictionary = Dictionary(tokenized_series)"
   ]
  },
  {
   "cell_type": "code",
   "execution_count": 15,
   "id": "50ec429d",
   "metadata": {},
   "outputs": [],
   "source": [
    "token_id_dictionary = word_dictionary.token2id"
   ]
  },
  {
   "cell_type": "code",
   "execution_count": 16,
   "id": "83282689",
   "metadata": {},
   "outputs": [],
   "source": [
    "word_corpus = [word_dictionary.doc2bow(doc) for doc in tokenized_series]"
   ]
  },
  {
   "cell_type": "code",
   "execution_count": 17,
   "id": "9ff3aed1",
   "metadata": {},
   "outputs": [
    {
     "name": "stdout",
     "output_type": "stream",
     "text": [
      "['Edifier', 'X5', 'Wireless', 'Headphone', ',', 'Bluetooth', '5.0', 'Headset', 'Earpiece', ',', 'Noise', 'Cancelling', ',', 'Touch', 'Contro', ',', 'IP55', 'Dustproof', '&', 'Waterproof', ',', 'Deep', 'Bass']\n",
      "****************************************************************************************************************************\n",
      "[(0, 1), (1, 5), (2, 1), (5, 1), (7, 1), (8, 1), (10, 1), (17, 1), (18, 1), (19, 1), (20, 1), (21, 1), (22, 1), (23, 1), (24, 1), (25, 1), (26, 1), (27, 1), (28, 1)]\n"
     ]
    }
   ],
   "source": [
    "print(tokenized_series[1])\n",
    "print('*'*124)\n",
    "print(word_corpus[1])"
   ]
  },
  {
   "cell_type": "code",
   "execution_count": 18,
   "id": "f9ba4788",
   "metadata": {},
   "outputs": [],
   "source": [
    "from gensim.models.tfidfmodel import TfidfModel\n",
    "tfidf_model = TfidfModel(word_corpus)"
   ]
  },
  {
   "cell_type": "code",
   "execution_count": 19,
   "id": "d31a002e",
   "metadata": {},
   "outputs": [
    {
     "data": {
      "text/plain": [
       "[(0, 0.14808127187052014),\n",
       " (1, 0.717219674060482),\n",
       " (2, 0.09198088759371771),\n",
       " (5, 0.18365285043596932),\n",
       " (7, 0.14639809647330607),\n",
       " (8, 0.18330768930524208),\n",
       " (10, 0.14589250710291587),\n",
       " (17, 0.11272933705754314),\n",
       " (18, 0.09915958783714107),\n",
       " (19, 0.13848195726969192),\n",
       " (20, 0.21227141642761593),\n",
       " (21, 0.15550735738795424),\n",
       " (22, 0.1846484947337846),\n",
       " (23, 0.21111198048501928),\n",
       " (24, 0.1839896151699915),\n",
       " (25, 0.12126989106856985),\n",
       " (26, 0.21362403843477246),\n",
       " (27, 0.12568333819031968),\n",
       " (28, 0.21341833162435503)]"
      ]
     },
     "execution_count": 19,
     "metadata": {},
     "output_type": "execute_result"
    }
   ],
   "source": [
    "tfidf_model[word_corpus[1]]"
   ]
  },
  {
   "cell_type": "code",
   "execution_count": 20,
   "id": "a2447a7c",
   "metadata": {},
   "outputs": [
    {
     "data": {
      "text/plain": [
       "'Noise'"
      ]
     },
     "execution_count": 20,
     "metadata": {},
     "output_type": "execute_result"
    }
   ],
   "source": [
    "word_dictionary.get(10)"
   ]
  },
  {
   "cell_type": "code",
   "execution_count": 21,
   "id": "37abd7fc",
   "metadata": {},
   "outputs": [],
   "source": [
    "import re\n",
    "\n",
    "def filter_stop_words():\n",
    "    stop_words = []\n",
    "    for token in token_id_dictionary.keys():\n",
    "        if re.match(r'[\\W]+(?![\\w\\d]+)', token):\n",
    "            stop_words.append(token)\n",
    "    return stop_words"
   ]
  },
  {
   "cell_type": "code",
   "execution_count": 22,
   "id": "ad360aca",
   "metadata": {},
   "outputs": [],
   "source": [
    "stop_words = filter_stop_words()"
   ]
  },
  {
   "cell_type": "code",
   "execution_count": 23,
   "id": "0f48fe46",
   "metadata": {},
   "outputs": [
    {
     "data": {
      "text/plain": [
       "['&', ',', '-', '(', ')', '/', \"''\", '.', '+', '..']"
      ]
     },
     "execution_count": 23,
     "metadata": {},
     "output_type": "execute_result"
    }
   ],
   "source": [
    "stop_words[:10]"
   ]
  },
  {
   "cell_type": "code",
   "execution_count": 24,
   "id": "fc9ac615",
   "metadata": {},
   "outputs": [
    {
     "data": {
      "text/plain": [
       "\"&|,|-|(|)|/|''|.|+|..|%|=|*|#|”|``|[|]|:|~|'|?|!|--|】【NO|{|}|℃|–|;|‘|’|+~T~L|\\\\/|@|×|\\\\|+/-|°|“|+-30pcs|��50|��|...|$|>|`|】|....|＆|℉|\\u200b\\u200bI|（|❤\""
      ]
     },
     "execution_count": 24,
     "metadata": {},
     "output_type": "execute_result"
    }
   ],
   "source": [
    "'|'.join(stop_words)"
   ]
  },
  {
   "cell_type": "code",
   "execution_count": 25,
   "id": "e3b0598e",
   "metadata": {},
   "outputs": [],
   "source": [
    "stop_word_rgx = \"(&|,|(?<=\\s)\\-(?=\\s)|\\(|\\)|(?<=\\s)/(?=\\s)|''|(?<!\\d)\\.(?!\\d)|(?<=\\s)\\+(?=\\s)|\\.\\.|(?<=\\s)%(?=\\s)|(?<=\\s)\\=(?=\\s)|(?<=\\s)\\*(?=\\s)|(?<=\\s)#(?=\\s)|”|``|\\[|\\]|:|(?<=\\s)~(?=\\s)|(?<=\\s)'(?=\\s)|\\?|(?<=\\s)\\!(?=\\s)|\\-\\-|】【NO|\\{|\\}|(?<=\\s)℃(?=\\s)|(?<=\\s)–(?=\\s)|;|(?<=\\s)‘(?=\\s)|(?<=\\s)’(?=\\s)|(?<=\\s)\\+~T~L(?=\\s)|\\\\\\\\/|(?<=\\s)\\@(?=\\s)|(?<=\\s)×(?=\\s)|\\\\\\\\|(?<=\\s)\\+/\\-(?=\\s)|(?<=\\s)°(?=\\s)|“|(?<=\\s)\\+\\-30pcs(?=\\s)|��50|��|\\.\\.\\.|(?<=\\s)\\$(?=\\s)|>|`|】|\\.\\.\\.\\.|＆|(?<=\\s)℉(?=\\s)|\\\\u200b\\\\u200bI|（|❤)\""
   ]
  },
  {
   "cell_type": "code",
   "execution_count": 26,
   "id": "856a10f3",
   "metadata": {},
   "outputs": [
    {
     "data": {
      "text/plain": [
       "'12Pcs Room Hanging M Screen Panels DIY Home Decor 11inch Whi'"
      ]
     },
     "execution_count": 26,
     "metadata": {},
     "output_type": "execute_result"
    }
   ],
   "source": [
    "df['Item'][150]"
   ]
  },
  {
   "cell_type": "code",
   "execution_count": 27,
   "id": "fe047178",
   "metadata": {},
   "outputs": [
    {
     "data": {
      "text/plain": [
       "'12Pcs Room Hanging M Screen Panels DIY Home Decor 11inch Whi'"
      ]
     },
     "execution_count": 27,
     "metadata": {},
     "output_type": "execute_result"
    }
   ],
   "source": [
    "re.sub(stop_word_rgx, ' ', df['Item'][150])"
   ]
  },
  {
   "cell_type": "code",
   "execution_count": 28,
   "id": "1d53e8ad",
   "metadata": {},
   "outputs": [],
   "source": [
    "def remove_stop_words_from_series(series):\n",
    "    stop_word_rgx = \"(&|,|(?<=\\s)\\-(?=\\s)|\\(|\\)|(?<=\\s)/(?=\\s)|''|(?<!\\d)\\.(?!\\d)|(?<=\\s)\\+(?=\\s)|\\.\\.|(?<=\\s)%(?=\\s)|(?<=\\s)\\=(?=\\s)|(?<=\\s)\\*(?=\\s)|(?<=\\s)#(?=\\s)|”|``|\\[|\\]|:|(?<=\\s)~(?=\\s)|(?<=\\s)'(?=\\s)|\\?|(?<=\\s)\\!(?=\\s)|\\-\\-|】【NO|\\{|\\}|(?<=\\s)℃(?=\\s)|(?<=\\s)–(?=\\s)|;|(?<=\\s)‘(?=\\s)|(?<=\\s)’(?=\\s)|(?<=\\s)\\+~T~L(?=\\s)|\\\\\\\\/|(?<=\\s)\\@(?=\\s)|(?<=\\s)×(?=\\s)|\\\\\\\\|(?<=\\s)\\+/\\-(?=\\s)|(?<=\\s)°(?=\\s)|“|(?<=\\s)\\+\\-30pcs(?=\\s)|��50|��|\\.\\.\\.|(?<=\\s)\\$(?=\\s)|>|`|】|\\.\\.\\.\\.|＆|(?<=\\s)℉(?=\\s)|\\\\u200b\\\\u200bI|（|❤)\"\n",
    "    return series.apply(lambda x: re.sub(stop_word_rgx, ' ', x))"
   ]
  },
  {
   "cell_type": "code",
   "execution_count": 29,
   "id": "b142cf90",
   "metadata": {},
   "outputs": [
    {
     "data": {
      "text/plain": [
       "['UMIDIGI',\n",
       " 'A13S',\n",
       " '4GB',\n",
       " '64GB',\n",
       " 'ROM',\n",
       " '6.7',\n",
       " \"''\",\n",
       " 'HD+',\n",
       " '5150mAh',\n",
       " 'Global',\n",
       " 'Version',\n",
       " '16MP+8MP+5MP',\n",
       " '+8MP-Galaxy',\n",
       " 'Blue']"
      ]
     },
     "execution_count": 29,
     "metadata": {},
     "output_type": "execute_result"
    }
   ],
   "source": [
    "word_tokenize(re.sub(stop_word_rgx, ' ', df['Item'][62]))"
   ]
  },
  {
   "cell_type": "code",
   "execution_count": 30,
   "id": "8c1d08a0",
   "metadata": {},
   "outputs": [],
   "source": [
    "removed_stop_word_series = remove_stop_words_from_series(df['Item'])"
   ]
  },
  {
   "cell_type": "code",
   "execution_count": 31,
   "id": "4f2565c7",
   "metadata": {},
   "outputs": [
    {
     "data": {
      "text/plain": [
       "0         Edifier TWS1 PRO True Wireless Earbuds Bluetoo...\n",
       "1         Edifier X5 Wireless Headphone  Bluetooth 5.0 H...\n",
       "2         Wireless Fingerprint Touch Noise Cancelling He...\n",
       "3         Edifier G2000 32W PC Computer Speakers Bluetoo...\n",
       "4         Pro3 In-Ear Wireless Sports Headphones Stereo ...\n",
       "                                ...                        \n",
       "303318                Hoodies Quality Female Vintage Hoodie\n",
       "303319    Autumn Winter Plus Size Thick Hooded Sweater Coat\n",
       "303320    Women Plus Size Winter Jacket Loose Women's Ho...\n",
       "303321                                 Cloth SOA Lounge Set\n",
       "303322    Mfed Khaki Color Block Zip Up Kangaroo Pocket ...\n",
       "Name: Item, Length: 303323, dtype: object"
      ]
     },
     "execution_count": 31,
     "metadata": {},
     "output_type": "execute_result"
    }
   ],
   "source": [
    "removed_stop_word_series"
   ]
  },
  {
   "cell_type": "code",
   "execution_count": 32,
   "id": "666506bf",
   "metadata": {},
   "outputs": [],
   "source": [
    "removed_stop_word_series = removed_stop_word_series.str.lower()"
   ]
  },
  {
   "cell_type": "code",
   "execution_count": 33,
   "id": "7fb192be",
   "metadata": {},
   "outputs": [],
   "source": [
    "tokenized_series_1 = tokenize_series(removed_stop_word_series)"
   ]
  },
  {
   "cell_type": "code",
   "execution_count": 34,
   "id": "433e67bd",
   "metadata": {},
   "outputs": [],
   "source": [
    "word_dictionary_1 = Dictionary(tokenized_series_1)"
   ]
  },
  {
   "cell_type": "code",
   "execution_count": 35,
   "id": "cfb39ee6",
   "metadata": {},
   "outputs": [
    {
     "data": {
      "text/plain": [
       "<gensim.corpora.dictionary.Dictionary at 0x222f3a6d160>"
      ]
     },
     "execution_count": 35,
     "metadata": {},
     "output_type": "execute_result"
    }
   ],
   "source": [
    "word_dictionary_1"
   ]
  },
  {
   "cell_type": "code",
   "execution_count": 36,
   "id": "8e488257",
   "metadata": {},
   "outputs": [],
   "source": [
    "token_id_dictionary_1 = word_dictionary_1.token2id"
   ]
  },
  {
   "cell_type": "code",
   "execution_count": 37,
   "id": "52841206",
   "metadata": {},
   "outputs": [],
   "source": [
    "#token_id_dictionary_1"
   ]
  },
  {
   "cell_type": "code",
   "execution_count": 38,
   "id": "5af104c9",
   "metadata": {},
   "outputs": [],
   "source": [
    "word_corpus_1 = [word_dictionary_1.doc2bow(doc) for doc in tokenized_series_1]"
   ]
  },
  {
   "cell_type": "code",
   "execution_count": 39,
   "id": "73684e1f",
   "metadata": {},
   "outputs": [
    {
     "name": "stdout",
     "output_type": "stream",
     "text": [
      "['edifier', 'x5', 'wireless', 'headphone', 'bluetooth', '5.0', 'headset', 'earpiece', 'noise', 'cancelling', 'touch', 'contro', 'ip55', 'dustproof', 'waterproof', 'deep', 'bass']\n",
      "****************************************************************************************************************************\n",
      "[(0, 1), (3, 1), (5, 1), (6, 1), (8, 1), (15, 1), (16, 1), (17, 1), (18, 1), (19, 1), (20, 1), (21, 1), (22, 1), (23, 1), (24, 1), (25, 1), (26, 1)]\n"
     ]
    }
   ],
   "source": [
    "print(tokenized_series_1[1])\n",
    "print('*'*124)\n",
    "print(word_corpus_1[1])"
   ]
  },
  {
   "cell_type": "code",
   "execution_count": 40,
   "id": "437184d3",
   "metadata": {},
   "outputs": [
    {
     "data": {
      "text/plain": [
       "[(3, 0.2956248623594893),\n",
       " (16, 0.2955931492091625),\n",
       " (26, 0.2955931492091625),\n",
       " (20, 0.293721516214512),\n",
       " (23, 0.2921171961946792),\n",
       " (22, 0.2554994768145274),\n",
       " (15, 0.2547283112459052),\n",
       " (24, 0.25458778032831647),\n",
       " (5, 0.2541217964952162),\n",
       " (8, 0.2536441945063959),\n",
       " (21, 0.21517667127866588),\n",
       " (6, 0.21456480579616938),\n",
       " (0, 0.20490114226761247),\n",
       " (19, 0.19161850023023377),\n",
       " (25, 0.16780203795349544),\n",
       " (17, 0.15598441071169433),\n",
       " (18, 0.1372078491625971)]"
      ]
     },
     "execution_count": 40,
     "metadata": {},
     "output_type": "execute_result"
    }
   ],
   "source": [
    "tfidf_model_1 = TfidfModel(word_corpus)\n",
    "sorted(tfidf_model_1[word_corpus_1[1]], key=lambda x: x[1], reverse=True)"
   ]
  },
  {
   "cell_type": "code",
   "execution_count": 41,
   "id": "fc9f8c49",
   "metadata": {},
   "outputs": [
    {
     "data": {
      "text/plain": [
       "'dustproof'"
      ]
     },
     "execution_count": 41,
     "metadata": {},
     "output_type": "execute_result"
    }
   ],
   "source": [
    "word_dictionary_1.get(3)"
   ]
  },
  {
   "cell_type": "markdown",
   "id": "3f03b5a6",
   "metadata": {},
   "source": [
    "### Entity Recognition"
   ]
  },
  {
   "cell_type": "code",
   "execution_count": 42,
   "id": "1e6f5cb0",
   "metadata": {},
   "outputs": [],
   "source": [
    "#!pip install spacy"
   ]
  },
  {
   "cell_type": "code",
   "execution_count": 43,
   "id": "0825fd27",
   "metadata": {},
   "outputs": [],
   "source": [
    "#!python -m spacy download en"
   ]
  },
  {
   "cell_type": "code",
   "execution_count": 44,
   "id": "624921ae",
   "metadata": {},
   "outputs": [],
   "source": [
    "import spacy\n",
    "\n",
    "nlp_obj = spacy.load(\"en_core_web_sm\")"
   ]
  },
  {
   "cell_type": "code",
   "execution_count": 45,
   "id": "49d3a302",
   "metadata": {},
   "outputs": [],
   "source": [
    "doc = nlp_obj(removed_stop_word_series[1])"
   ]
  },
  {
   "cell_type": "code",
   "execution_count": 46,
   "id": "d845e72b",
   "metadata": {},
   "outputs": [
    {
     "data": {
      "text/plain": [
       "edifier x5 wireless headphone  bluetooth 5.0 headset earpiece noise cancelling touch contro ip55 dustproof   waterproof  deep bass"
      ]
     },
     "execution_count": 46,
     "metadata": {},
     "output_type": "execute_result"
    }
   ],
   "source": [
    "doc"
   ]
  },
  {
   "cell_type": "code",
   "execution_count": 47,
   "id": "bfce97fe",
   "metadata": {},
   "outputs": [
    {
     "data": {
      "text/plain": [
       "(5.0, ip55)"
      ]
     },
     "execution_count": 47,
     "metadata": {},
     "output_type": "execute_result"
    }
   ],
   "source": [
    "doc.ents"
   ]
  },
  {
   "cell_type": "code",
   "execution_count": 48,
   "id": "dd7e689d",
   "metadata": {},
   "outputs": [],
   "source": [
    "df['Item'] = removed_stop_word_series"
   ]
  },
  {
   "cell_type": "code",
   "execution_count": 49,
   "id": "86270930",
   "metadata": {},
   "outputs": [
    {
     "data": {
      "text/plain": [
       "0    ₦ 17,766\n",
       "1    ₦ 11,100\n",
       "2     ₦ 4,290\n",
       "3    ₦ 27,264\n",
       "4     ₦ 3,324\n",
       "Name: Price, dtype: object"
      ]
     },
     "execution_count": 49,
     "metadata": {},
     "output_type": "execute_result"
    }
   ],
   "source": [
    "df['Price'].head(5)"
   ]
  },
  {
   "cell_type": "code",
   "execution_count": 50,
   "id": "c045ddeb",
   "metadata": {},
   "outputs": [],
   "source": [
    "df['Price'] = df['Price'].apply(lambda x: re.sub(r'[₦,\\s]', '', x))"
   ]
  },
  {
   "cell_type": "code",
   "execution_count": 51,
   "id": "2268d2cb",
   "metadata": {},
   "outputs": [],
   "source": [
    "df['Price'] = df['Price'].apply(lambda x: np.mean(list(map(int, x.split('-')))))"
   ]
  },
  {
   "cell_type": "code",
   "execution_count": 52,
   "id": "48491b6b",
   "metadata": {},
   "outputs": [
    {
     "data": {
      "text/html": [
       "<div>\n",
       "<style scoped>\n",
       "    .dataframe tbody tr th:only-of-type {\n",
       "        vertical-align: middle;\n",
       "    }\n",
       "\n",
       "    .dataframe tbody tr th {\n",
       "        vertical-align: top;\n",
       "    }\n",
       "\n",
       "    .dataframe thead th {\n",
       "        text-align: right;\n",
       "    }\n",
       "</style>\n",
       "<table border=\"1\" class=\"dataframe\">\n",
       "  <thead>\n",
       "    <tr style=\"text-align: right;\">\n",
       "      <th></th>\n",
       "      <th>Item</th>\n",
       "      <th>Price</th>\n",
       "    </tr>\n",
       "  </thead>\n",
       "  <tbody>\n",
       "    <tr>\n",
       "      <th>0</th>\n",
       "      <td>edifier tws1 pro true wireless earbuds bluetoo...</td>\n",
       "      <td>17766.0</td>\n",
       "    </tr>\n",
       "    <tr>\n",
       "      <th>1</th>\n",
       "      <td>edifier x5 wireless headphone  bluetooth 5.0 h...</td>\n",
       "      <td>11100.0</td>\n",
       "    </tr>\n",
       "    <tr>\n",
       "      <th>2</th>\n",
       "      <td>wireless fingerprint touch noise cancelling he...</td>\n",
       "      <td>4290.0</td>\n",
       "    </tr>\n",
       "    <tr>\n",
       "      <th>3</th>\n",
       "      <td>edifier g2000 32w pc computer speakers bluetoo...</td>\n",
       "      <td>27264.0</td>\n",
       "    </tr>\n",
       "    <tr>\n",
       "      <th>4</th>\n",
       "      <td>pro3 in-ear wireless sports headphones stereo ...</td>\n",
       "      <td>3324.0</td>\n",
       "    </tr>\n",
       "  </tbody>\n",
       "</table>\n",
       "</div>"
      ],
      "text/plain": [
       "                                                Item    Price\n",
       "0  edifier tws1 pro true wireless earbuds bluetoo...  17766.0\n",
       "1  edifier x5 wireless headphone  bluetooth 5.0 h...  11100.0\n",
       "2  wireless fingerprint touch noise cancelling he...   4290.0\n",
       "3  edifier g2000 32w pc computer speakers bluetoo...  27264.0\n",
       "4  pro3 in-ear wireless sports headphones stereo ...   3324.0"
      ]
     },
     "execution_count": 52,
     "metadata": {},
     "output_type": "execute_result"
    }
   ],
   "source": [
    "df.head()"
   ]
  },
  {
   "cell_type": "code",
   "execution_count": 53,
   "id": "a91d59cd",
   "metadata": {},
   "outputs": [
    {
     "data": {
      "text/plain": [
       "Item      object\n",
       "Price    float64\n",
       "dtype: object"
      ]
     },
     "execution_count": 53,
     "metadata": {},
     "output_type": "execute_result"
    }
   ],
   "source": [
    "df.dtypes"
   ]
  },
  {
   "cell_type": "code",
   "execution_count": 54,
   "id": "312b0339",
   "metadata": {},
   "outputs": [],
   "source": [
    "from sklearn.model_selection import train_test_split\n",
    "from sklearn.linear_model import LinearRegression\n",
    "from sklearn.neighbors import KNeighborsRegressor\n",
    "from sklearn.ensemble import RandomForestRegressor\n",
    "from sklearn.metrics import mean_squared_error, mean_absolute_error, r2_score"
   ]
  },
  {
   "cell_type": "code",
   "execution_count": 55,
   "id": "c17f4b44",
   "metadata": {},
   "outputs": [],
   "source": [
    "X = df['Item']\n",
    "y = df['Price']\n",
    "\n",
    "X_train, X_test, y_train, y_test = train_test_split(X, y, test_size=0.2, random_state=42)"
   ]
  },
  {
   "cell_type": "code",
   "execution_count": 56,
   "id": "c21dfe71",
   "metadata": {},
   "outputs": [],
   "source": [
    "from sklearn.feature_extraction.text import CountVectorizer, TfidfVectorizer\n",
    "\n",
    "count_vectorizer = CountVectorizer(stop_words='english')\n",
    "tfidf_vectorizer = TfidfVectorizer()\n",
    "\n",
    "\n",
    "count_train = count_vectorizer.fit_transform(X_train.values)\n",
    "count_test = count_vectorizer.transform(X_test.values)\n",
    "tfidf_train = tfidf_vectorizer.fit_transform(X_train.values)\n",
    "tfidf_test = tfidf_vectorizer.transform(X_test.values)"
   ]
  },
  {
   "cell_type": "code",
   "execution_count": 57,
   "id": "cf3b75cf",
   "metadata": {},
   "outputs": [
    {
     "data": {
      "text/plain": [
       "<5x24247 sparse matrix of type '<class 'numpy.int64'>'\n",
       "\twith 55 stored elements in Compressed Sparse Row format>"
      ]
     },
     "execution_count": 57,
     "metadata": {},
     "output_type": "execute_result"
    }
   ],
   "source": [
    "count_train[:5]"
   ]
  },
  {
   "cell_type": "code",
   "execution_count": 58,
   "id": "80629004",
   "metadata": {},
   "outputs": [],
   "source": [
    "lin_reg = LinearRegression()"
   ]
  },
  {
   "cell_type": "code",
   "execution_count": 59,
   "id": "73dddaf8",
   "metadata": {},
   "outputs": [],
   "source": [
    "#lin_reg.fit(count_train, y_train)"
   ]
  },
  {
   "cell_type": "code",
   "execution_count": 61,
   "id": "7793bcb4",
   "metadata": {},
   "outputs": [],
   "source": [
    "#preds = lin_reg.predict(count_test)"
   ]
  },
  {
   "cell_type": "code",
   "execution_count": 62,
   "id": "d399c99e",
   "metadata": {},
   "outputs": [],
   "source": [
    "rand_f = RandomForestRegressor()\n",
    "knn_reg = KNeighborsRegressor()"
   ]
  },
  {
   "cell_type": "code",
   "execution_count": 63,
   "id": "6c27e2b4",
   "metadata": {},
   "outputs": [
    {
     "data": {
      "text/plain": [
       "RandomForestRegressor()"
      ]
     },
     "execution_count": 63,
     "metadata": {},
     "output_type": "execute_result"
    }
   ],
   "source": [
    "rand_f.fit(count_train, y_train)"
   ]
  },
  {
   "cell_type": "code",
   "execution_count": 64,
   "id": "9dbe37a7",
   "metadata": {},
   "outputs": [],
   "source": [
    "def print_scores(y_test, model, model_name):\n",
    "    print(f\"{model_name} scores\")\n",
    "    print(f\"MSE: {mean_squared_error(y_test, model.predict(count_test))}\")\n",
    "    print(f\"MAE: {mean_absolute_error(y_test, model.predict(count_test))}\")\n",
    "    print(f\"R2 Score: {r2_score(y_test, model.predict(count_test))}\") \n",
    "    print('*'*50) "
   ]
  },
  {
   "cell_type": "code",
   "execution_count": 66,
   "id": "9c0df80e",
   "metadata": {},
   "outputs": [
    {
     "name": "stdout",
     "output_type": "stream",
     "text": [
      "Random Forest scores\n",
      "MSE: 889880591.2950413\n",
      "MAE: 2211.9149765225807\n",
      "R2 Score: 0.43188655476995297\n",
      "**************************************************\n"
     ]
    }
   ],
   "source": [
    "print_scores(y_test, rand_f, 'Random Forest')"
   ]
  },
  {
   "cell_type": "code",
   "execution_count": 67,
   "id": "5b0924e7",
   "metadata": {},
   "outputs": [],
   "source": [
    "from sklearn.preprocessing import StandardScaler"
   ]
  },
  {
   "cell_type": "code",
   "execution_count": 68,
   "id": "e38f8d8e",
   "metadata": {},
   "outputs": [],
   "source": [
    "scl = StandardScaler()"
   ]
  },
  {
   "cell_type": "code",
   "execution_count": 69,
   "id": "b5ab62db",
   "metadata": {},
   "outputs": [
    {
     "data": {
      "image/png": "[encoded data removed]",
      "text/plain": [
       "<Figure size 432x288 with 1 Axes>"
      ]
     },
     "metadata": {
      "needs_background": "light"
     },
     "output_type": "display_data"
    }
   ],
   "source": [
    "plt.hist(df['Price'])\n",
    "plt.show()"
   ]
  },
  {
   "cell_type": "markdown",
   "id": "0fd61105",
   "metadata": {},
   "source": [
    "From this plot above, the distribution is highly right-skewed"
   ]
  },
  {
   "cell_type": "code",
   "execution_count": 70,
   "id": "c9890384",
   "metadata": {},
   "outputs": [
    {
     "data": {
      "image/png": "[encoded data removed]",
      "text/plain": [
       "<Figure size 432x288 with 1 Axes>"
      ]
     },
     "metadata": {
      "needs_background": "light"
     },
     "output_type": "display_data"
    }
   ],
   "source": [
    "plt.hist(np.log(df['Price']))\n",
    "plt.show()"
   ]
  },
  {
   "cell_type": "code",
   "execution_count": 71,
   "id": "7a6ea3c9",
   "metadata": {},
   "outputs": [],
   "source": [
    "# log transformation\n",
    "\n",
    "df['log_Price'] = df['Price'].apply(lambda x: np.log(x))"
   ]
  },
  {
   "cell_type": "code",
   "execution_count": 72,
   "id": "0960f928",
   "metadata": {},
   "outputs": [],
   "source": [
    "X = df['Item']\n",
    "y = df['log_Price']\n",
    "\n",
    "X_train, X_test, y_train, y_test = train_test_split(X, y, test_size=0.2, random_state=42)"
   ]
  },
  {
   "cell_type": "code",
   "execution_count": 73,
   "id": "5180aa04",
   "metadata": {},
   "outputs": [],
   "source": [
    "from sklearn.feature_extraction.text import CountVectorizer, TfidfVectorizer\n",
    "\n",
    "count_vectorizer = CountVectorizer(stop_words='english')\n",
    "tfidf_vectorizer = TfidfVectorizer()\n",
    "\n",
    "\n",
    "count_train = count_vectorizer.fit_transform(X_train.values)\n",
    "count_test = count_vectorizer.transform(X_test.values)\n",
    "tfidf_train = tfidf_vectorizer.fit_transform(X_train.values)\n",
    "tfidf_test = tfidf_vectorizer.transform(X_test.values)"
   ]
  },
  {
   "cell_type": "code",
   "execution_count": 74,
   "id": "e871d57c",
   "metadata": {},
   "outputs": [
    {
     "data": {
      "text/plain": [
       "RandomForestRegressor()"
      ]
     },
     "execution_count": 74,
     "metadata": {},
     "output_type": "execute_result"
    }
   ],
   "source": [
    "rand_f.fit(count_train, y_train)"
   ]
  },
  {
   "cell_type": "code",
   "execution_count": 75,
   "id": "9df06edc",
   "metadata": {},
   "outputs": [
    {
     "name": "stdout",
     "output_type": "stream",
     "text": [
      "Random Forest scores\n",
      "MSE: 0.12062906726801323\n",
      "MAE: 0.11290292385559302\n",
      "R2 Score: 0.9296286450884585\n",
      "**************************************************\n"
     ]
    }
   ],
   "source": [
    "print_scores(y_test, rand_f, 'Random Forest')"
   ]
  },
  {
   "cell_type": "code",
   "execution_count": 76,
   "id": "a36edd85",
   "metadata": {},
   "outputs": [],
   "source": [
    "preds = rand_f.predict(count_test)"
   ]
  },
  {
   "cell_type": "code",
   "execution_count": 77,
   "id": "d551531f",
   "metadata": {},
   "outputs": [
    {
     "data": {
      "text/plain": [
       "array([ 5000.79216198, 22293.25561216,  9282.45451884, ...,\n",
       "       27220.87618537,  8800.        , 27950.00000001])"
      ]
     },
     "execution_count": 77,
     "metadata": {},
     "output_type": "execute_result"
    }
   ],
   "source": [
    "np.exp(preds)"
   ]
  },
  {
   "cell_type": "code",
   "execution_count": 78,
   "id": "34985de5",
   "metadata": {},
   "outputs": [
    {
     "data": {
      "text/plain": [
       "23530      4999.0\n",
       "79989     33030.0\n",
       "123342     8640.0\n",
       "26773     27950.0\n",
       "223244     4990.0\n",
       "           ...   \n",
       "261727     3324.0\n",
       "84254      1863.0\n",
       "47058     27222.0\n",
       "41507      8800.0\n",
       "9357      27950.0\n",
       "Name: log_Price, Length: 60665, dtype: float64"
      ]
     },
     "execution_count": 78,
     "metadata": {},
     "output_type": "execute_result"
    }
   ],
   "source": [
    "np.exp(y_test)"
   ]
  },
  {
   "cell_type": "markdown",
   "id": "f5414053",
   "metadata": {},
   "source": [
    "### Testing"
   ]
  },
  {
   "cell_type": "code",
   "execution_count": 104,
   "id": "e91377db",
   "metadata": {},
   "outputs": [],
   "source": [
    "product = 'Marvel Spiderman PlayStation 4'"
   ]
  },
  {
   "cell_type": "code",
   "execution_count": 105,
   "id": "8c421016",
   "metadata": {},
   "outputs": [],
   "source": [
    "product_vec = count_vectorizer.transform([product])"
   ]
  },
  {
   "cell_type": "code",
   "execution_count": 106,
   "id": "722e1a0c",
   "metadata": {},
   "outputs": [
    {
     "data": {
      "text/plain": [
       "array([19697.64187574])"
      ]
     },
     "execution_count": 106,
     "metadata": {},
     "output_type": "execute_result"
    }
   ],
   "source": [
    "np.exp(rand_f.predict(product_vec)) # The actual price for the product is 18,000 naira"
   ]
  },
  {
   "cell_type": "code",
   "execution_count": 102,
   "id": "6bd3a427",
   "metadata": {},
   "outputs": [
    {
     "data": {
      "text/plain": [
       "array([34573.2710275])"
      ]
     },
     "execution_count": 102,
     "metadata": {},
     "output_type": "execute_result"
    }
   ],
   "source": [
    "product = 'Sony Computer Entertainment PlayStation 4 Console 500gb +Extra Controller'\n",
    "product_vec = count_vectorizer.transform([product])\n",
    "np.exp(rand_f.predict(product_vec)) # The actual price for the product is 155,000 naira"
   ]
  },
  {
   "cell_type": "markdown",
   "id": "6f737e0c",
   "metadata": {},
   "source": [
    "It looks like the model performs poorly on predicting prices of products whose actual prices are high and very well on other products whose prices are fairly low"
   ]
  },
  {
   "cell_type": "code",
   "execution_count": null,
   "id": "2438b91a",
   "metadata": {},
   "outputs": [],
   "source": []
  }
 ],
 "metadata": {
  "kernelspec": {
   "display_name": "Python 3 (ipykernel)",
   "language": "python",
   "name": "python3"
  },
  "language_info": {
   "codemirror_mode": {
    "name": "ipython",
    "version": 3
   },
   "file_extension": ".py",
   "mimetype": "text/x-python",
   "name": "python",
   "nbconvert_exporter": "python",
   "pygments_lexer": "ipython3",
   "version": "3.9.13"
  }
 },
 "nbformat": 4,
 "nbformat_minor": 5
}
